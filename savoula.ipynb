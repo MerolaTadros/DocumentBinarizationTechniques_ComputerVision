{
 "cells": [
  {
   "cell_type": "code",
   "execution_count": 2,
   "metadata": {},
   "outputs": [],
   "source": [
    "import numpy as np\n",
    "import cv2 as cv\n",
    "from skimage import io\n",
    "import matplotlib.pyplot as plt\n",
    "from skimage.color import rgb2gray\n",
    "from scipy import fftpack\n",
    "import PIL\n",
    "from PIL import Image,ImageEnhance\n",
    "from skimage.data import page\n",
    "from skimage.filters import (threshold_otsu, threshold_niblack,\n",
    "                             threshold_sauvola, threshold_triangle)\n",
    "from skimage import img_as_ubyte"
   ]
  },
  {
   "cell_type": "code",
   "execution_count": 52,
   "metadata": {},
   "outputs": [
    {
     "data": {
      "text/plain": [
       "<matplotlib.image.AxesImage at 0x216eeeafd30>"
      ]
     },
     "execution_count": 52,
     "metadata": {},
     "output_type": "execute_result"
    },
    {
     "data": {
      "image/png": "[encoded data removed]",
      "text/plain": [
       "<Figure size 432x288 with 1 Axes>"
      ]
     },
     "metadata": {
      "needs_background": "light"
     },
     "output_type": "display_data"
    }
   ],
   "source": [
    "image = cv.imread('h05.bmp',0)\n",
    "window_size =25\n",
    "thresh_otsu=threshold_otsu(image)\n",
    "binary_otsu = image > thresh_otsu\n",
    "binary_otsu =img_as_ubyte(binary_otsu)\n",
    "\n",
    "thresh_niblack = threshold_niblack(image, window_size=window_size, k=0.8)\n",
    "binary_niblack = image > thresh_niblack\n",
    "binary_niblack = img_as_ubyte(binary_niblack)\n",
    "\n",
    "thresh_sauvola = threshold_sauvola(image, window_size=window_size)\n",
    "binary_sauvola = image > thresh_sauvola\n",
    "binary_sauvola =img_as_ubyte(binary_sauvola)\n",
    "\n",
    "thresh_triangle=threshold_triangle(image)\n",
    "binary_triangle = image > thresh_triangle\n",
    "binary_triangle =img_as_ubyte(binary_triangle)\n",
    "\n",
    "dst = cv.fastNlMeansDenoising(binary_niblack,30,50,10) \n",
    "plt.imshow(binary_sauvola, cmap='gray')"
   ]
  },
  {
   "cell_type": "code",
   "execution_count": 53,
   "metadata": {},
   "outputs": [
    {
     "data": {
      "text/plain": [
       "<matplotlib.image.AxesImage at 0x216ef671940>"
      ]
     },
     "execution_count": 53,
     "metadata": {},
     "output_type": "execute_result"
    },
    {
     "data": {
      "image/png": "[encoded data removed]",
      "text/plain": [
       "<Figure size 432x288 with 1 Axes>"
      ]
     },
     "metadata": {
      "needs_background": "light"
     },
     "output_type": "display_data"
    }
   ],
   "source": [
    "out_image = binary_sauvola\n",
    "image = cv.imread('h05.bmp',0)\n",
    "gt_image = cv.imread('h05.tiff',0)\n",
    "plt.imshow(gt_image, cmap='gray')"
   ]
  },
  {
   "cell_type": "code",
   "execution_count": 54,
   "metadata": {},
   "outputs": [
    {
     "name": "stdout",
     "output_type": "stream",
     "text": [
      "2080\n",
      "27645\n",
      "8809\n",
      "[83.54614001]\n"
     ]
    }
   ],
   "source": [
    "fm = []\n",
    "image = rgb2gray(image)\n",
    "image = np.uint8(np.floor(image))\n",
    "gt_image = rgb2gray(gt_image)\n",
    "gt_image = np.uint8(np.floor(gt_image))\n",
    "rows, columns = gt_image.shape\n",
    "fp = np.count_nonzero(np.greater(gt_image, out_image))\n",
    "fn = np.count_nonzero(np.greater(out_image, gt_image))\n",
    "tp = np.count_nonzero(np.logical_and(np.equal(gt_image, out_image), np.equal(gt_image, np.zeros((rows, columns)))))\n",
    "recall = tp/(tp+fn)\n",
    "precision = tp/(tp+fp)\n",
    "fscore = ((2*recall*precision)/(precision+recall))\n",
    "fm.append(fscore)\n",
    "fm = np.array(fm)\n",
    "print (fp) \n",
    "print (tp)\n",
    "print (fn) \n",
    "print (fm*100)"
   ]
  },
  {
   "cell_type": "code",
   "execution_count": null,
   "metadata": {},
   "outputs": [],
   "source": []
  },
  {
   "cell_type": "code",
   "execution_count": null,
   "metadata": {},
   "outputs": [],
   "source": []
  }
 ],
 "metadata": {
  "kernelspec": {
   "display_name": "Python 3",
   "language": "python",
   "name": "python3"
  },
  "language_info": {
   "codemirror_mode": {
    "name": "ipython",
    "version": 3
   },
   "file_extension": ".py",
   "mimetype": "text/x-python",
   "name": "python",
   "nbconvert_exporter": "python",
   "pygments_lexer": "ipython3",
   "version": "3.7.3"
  }
 },
 "nbformat": 4,
 "nbformat_minor": 2
}
